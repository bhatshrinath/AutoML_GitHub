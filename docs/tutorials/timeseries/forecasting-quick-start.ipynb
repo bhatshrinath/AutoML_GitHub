{
  "cells": [
    {
      "cell_type": "markdown",
      "id": "b0f6df2b",
      "metadata": {
        "id": "b0f6df2b"
      },
      "source": [
        "# AutoGluon Time Series - Forecasting Quick Start\n",
        "\n",
        "[![Open In Colab](https://colab.research.google.com/assets/colab-badge.svg)](https://colab.research.google.com/github/autogluon/autogluon/blob/master/docs/tutorials/timeseries/forecasting-quick-start.ipynb)\n",
        "[![Open In SageMaker Studio Lab](https://studiolab.sagemaker.aws/studiolab.svg)](https://studiolab.sagemaker.aws/import/github/autogluon/autogluon/blob/master/docs/tutorials/timeseries/forecasting-quick-start.ipynb)\n",
        "\n",
        "\n",
        "Via a simple `fit()` call, AutoGluon can train and tune\n",
        "\n",
        "- simple forecasting models (e.g., ARIMA, ETS, Theta),\n",
        "- powerful deep learning models (e.g., DeepAR, Temporal Fusion Transformer),\n",
        "- tree-based models (e.g., LightGBM),\n",
        "- an ensemble that combines predictions of other models\n",
        "\n",
        "to produce multi-step ahead _probabilistic_ forecasts for univariate time series data.\n",
        "\n",
        "This tutorial demonstrates how to quickly start using AutoGluon to generate hourly forecasts for the [M4 forecasting competition](https://www.sciencedirect.com/science/article/pii/S0169207019301128) dataset.\n",
        "\n",
        "## Loading time series data as a `TimeSeriesDataFrame`\n",
        "\n",
        "First, we import some required modules"
      ]
    },
    {
      "cell_type": "code",
      "execution_count": 2,
      "id": "aa00faab-252f-44c9-b8f7-57131aa8251c",
      "metadata": {
        "tags": [
          "remove-cell",
          "skip-execution"
        ],
        "id": "aa00faab-252f-44c9-b8f7-57131aa8251c",
        "outputId": "b0088b1b-a17b-4bd0-ffe0-8d3fb31eee8d",
        "colab": {
          "base_uri": "https://localhost:8080/"
        }
      },
      "outputs": [
        {
          "output_type": "stream",
          "name": "stdout",
          "text": [
            "Collecting uv\n",
            "  Downloading uv-0.8.4-py3-none-manylinux_2_17_x86_64.manylinux2014_x86_64.whl.metadata (11 kB)\n",
            "Downloading uv-0.8.4-py3-none-manylinux_2_17_x86_64.manylinux2014_x86_64.whl (18.8 MB)\n",
            "\u001b[2K   \u001b[90m━━━━━━━━━━━━━━━━━━━━━━━━━━━━━━━━━━━━━━━━\u001b[0m \u001b[32m18.8/18.8 MB\u001b[0m \u001b[31m83.1 MB/s\u001b[0m eta \u001b[36m0:00:00\u001b[0m\n",
            "\u001b[?25hInstalling collected packages: uv\n",
            "Successfully installed uv-0.8.4\n"
          ]
        }
      ],
      "source": [
        "# We use uv for faster installation\n",
        "!pip install uv\n",
        "!uv pip install -q autogluon.timeseries --system\n",
        "!uv pip uninstall -q torchaudio torchvision torchtext --system # fix incompatible package versions on Colab\n"
      ]
    },
    {
      "cell_type": "code",
      "execution_count": 3,
      "id": "843dc3c2",
      "metadata": {
        "id": "843dc3c2"
      },
      "outputs": [],
      "source": [
        "import pandas as pd\n",
        "from autogluon.timeseries import TimeSeriesDataFrame, TimeSeriesPredictor\n"
      ]
    },
    {
      "cell_type": "markdown",
      "id": "519d689a",
      "metadata": {
        "id": "519d689a"
      },
      "source": [
        "To use `autogluon.timeseries`, we will only need the following two classes:\n",
        "\n",
        "- `TimeSeriesDataFrame` stores a dataset consisting of multiple time series.\n",
        "- `TimeSeriesPredictor` takes care of fitting, tuning and selecting the best forecasting models, as well as generating new forecasts.\n",
        "\n",
        "We load a subset of the M4 hourly dataset as a `pandas.DataFrame`"
      ]
    },
    {
      "cell_type": "code",
      "execution_count": 4,
      "id": "4bcd73a8",
      "metadata": {
        "id": "4bcd73a8",
        "outputId": "254eed53-14da-434a-9f68-dc5c8beb95ed",
        "colab": {
          "base_uri": "https://localhost:8080/",
          "height": 206
        }
      },
      "outputs": [
        {
          "output_type": "execute_result",
          "data": {
            "text/plain": [
              "  item_id            timestamp  target\n",
              "0      H1  1750-01-01 00:00:00   605.0\n",
              "1      H1  1750-01-01 01:00:00   586.0\n",
              "2      H1  1750-01-01 02:00:00   586.0\n",
              "3      H1  1750-01-01 03:00:00   559.0\n",
              "4      H1  1750-01-01 04:00:00   511.0"
            ],
            "text/html": [
              "\n",
              "  <div id=\"df-efc2f931-8e9c-49bf-b509-0964e7d9fa26\" class=\"colab-df-container\">\n",
              "    <div>\n",
              "<style scoped>\n",
              "    .dataframe tbody tr th:only-of-type {\n",
              "        vertical-align: middle;\n",
              "    }\n",
              "\n",
              "    .dataframe tbody tr th {\n",
              "        vertical-align: top;\n",
              "    }\n",
              "\n",
              "    .dataframe thead th {\n",
              "        text-align: right;\n",
              "    }\n",
              "</style>\n",
              "<table border=\"1\" class=\"dataframe\">\n",
              "  <thead>\n",
              "    <tr style=\"text-align: right;\">\n",
              "      <th></th>\n",
              "      <th>item_id</th>\n",
              "      <th>timestamp</th>\n",
              "      <th>target</th>\n",
              "    </tr>\n",
              "  </thead>\n",
              "  <tbody>\n",
              "    <tr>\n",
              "      <th>0</th>\n",
              "      <td>H1</td>\n",
              "      <td>1750-01-01 00:00:00</td>\n",
              "      <td>605.0</td>\n",
              "    </tr>\n",
              "    <tr>\n",
              "      <th>1</th>\n",
              "      <td>H1</td>\n",
              "      <td>1750-01-01 01:00:00</td>\n",
              "      <td>586.0</td>\n",
              "    </tr>\n",
              "    <tr>\n",
              "      <th>2</th>\n",
              "      <td>H1</td>\n",
              "      <td>1750-01-01 02:00:00</td>\n",
              "      <td>586.0</td>\n",
              "    </tr>\n",
              "    <tr>\n",
              "      <th>3</th>\n",
              "      <td>H1</td>\n",
              "      <td>1750-01-01 03:00:00</td>\n",
              "      <td>559.0</td>\n",
              "    </tr>\n",
              "    <tr>\n",
              "      <th>4</th>\n",
              "      <td>H1</td>\n",
              "      <td>1750-01-01 04:00:00</td>\n",
              "      <td>511.0</td>\n",
              "    </tr>\n",
              "  </tbody>\n",
              "</table>\n",
              "</div>\n",
              "    <div class=\"colab-df-buttons\">\n",
              "\n",
              "  <div class=\"colab-df-container\">\n",
              "    <button class=\"colab-df-convert\" onclick=\"convertToInteractive('df-efc2f931-8e9c-49bf-b509-0964e7d9fa26')\"\n",
              "            title=\"Convert this dataframe to an interactive table.\"\n",
              "            style=\"display:none;\">\n",
              "\n",
              "  <svg xmlns=\"http://www.w3.org/2000/svg\" height=\"24px\" viewBox=\"0 -960 960 960\">\n",
              "    <path d=\"M120-120v-720h720v720H120Zm60-500h600v-160H180v160Zm220 220h160v-160H400v160Zm0 220h160v-160H400v160ZM180-400h160v-160H180v160Zm440 0h160v-160H620v160ZM180-180h160v-160H180v160Zm440 0h160v-160H620v160Z\"/>\n",
              "  </svg>\n",
              "    </button>\n",
              "\n",
              "  <style>\n",
              "    .colab-df-container {\n",
              "      display:flex;\n",
              "      gap: 12px;\n",
              "    }\n",
              "\n",
              "    .colab-df-convert {\n",
              "      background-color: #E8F0FE;\n",
              "      border: none;\n",
              "      border-radius: 50%;\n",
              "      cursor: pointer;\n",
              "      display: none;\n",
              "      fill: #1967D2;\n",
              "      height: 32px;\n",
              "      padding: 0 0 0 0;\n",
              "      width: 32px;\n",
              "    }\n",
              "\n",
              "    .colab-df-convert:hover {\n",
              "      background-color: #E2EBFA;\n",
              "      box-shadow: 0px 1px 2px rgba(60, 64, 67, 0.3), 0px 1px 3px 1px rgba(60, 64, 67, 0.15);\n",
              "      fill: #174EA6;\n",
              "    }\n",
              "\n",
              "    .colab-df-buttons div {\n",
              "      margin-bottom: 4px;\n",
              "    }\n",
              "\n",
              "    [theme=dark] .colab-df-convert {\n",
              "      background-color: #3B4455;\n",
              "      fill: #D2E3FC;\n",
              "    }\n",
              "\n",
              "    [theme=dark] .colab-df-convert:hover {\n",
              "      background-color: #434B5C;\n",
              "      box-shadow: 0px 1px 3px 1px rgba(0, 0, 0, 0.15);\n",
              "      filter: drop-shadow(0px 1px 2px rgba(0, 0, 0, 0.3));\n",
              "      fill: #FFFFFF;\n",
              "    }\n",
              "  </style>\n",
              "\n",
              "    <script>\n",
              "      const buttonEl =\n",
              "        document.querySelector('#df-efc2f931-8e9c-49bf-b509-0964e7d9fa26 button.colab-df-convert');\n",
              "      buttonEl.style.display =\n",
              "        google.colab.kernel.accessAllowed ? 'block' : 'none';\n",
              "\n",
              "      async function convertToInteractive(key) {\n",
              "        const element = document.querySelector('#df-efc2f931-8e9c-49bf-b509-0964e7d9fa26');\n",
              "        const dataTable =\n",
              "          await google.colab.kernel.invokeFunction('convertToInteractive',\n",
              "                                                    [key], {});\n",
              "        if (!dataTable) return;\n",
              "\n",
              "        const docLinkHtml = 'Like what you see? Visit the ' +\n",
              "          '<a target=\"_blank\" href=https://colab.research.google.com/notebooks/data_table.ipynb>data table notebook</a>'\n",
              "          + ' to learn more about interactive tables.';\n",
              "        element.innerHTML = '';\n",
              "        dataTable['output_type'] = 'display_data';\n",
              "        await google.colab.output.renderOutput(dataTable, element);\n",
              "        const docLink = document.createElement('div');\n",
              "        docLink.innerHTML = docLinkHtml;\n",
              "        element.appendChild(docLink);\n",
              "      }\n",
              "    </script>\n",
              "  </div>\n",
              "\n",
              "\n",
              "    <div id=\"df-c2acafe6-da9c-475c-9c77-3eafcbe0b200\">\n",
              "      <button class=\"colab-df-quickchart\" onclick=\"quickchart('df-c2acafe6-da9c-475c-9c77-3eafcbe0b200')\"\n",
              "                title=\"Suggest charts\"\n",
              "                style=\"display:none;\">\n",
              "\n",
              "<svg xmlns=\"http://www.w3.org/2000/svg\" height=\"24px\"viewBox=\"0 0 24 24\"\n",
              "     width=\"24px\">\n",
              "    <g>\n",
              "        <path d=\"M19 3H5c-1.1 0-2 .9-2 2v14c0 1.1.9 2 2 2h14c1.1 0 2-.9 2-2V5c0-1.1-.9-2-2-2zM9 17H7v-7h2v7zm4 0h-2V7h2v10zm4 0h-2v-4h2v4z\"/>\n",
              "    </g>\n",
              "</svg>\n",
              "      </button>\n",
              "\n",
              "<style>\n",
              "  .colab-df-quickchart {\n",
              "      --bg-color: #E8F0FE;\n",
              "      --fill-color: #1967D2;\n",
              "      --hover-bg-color: #E2EBFA;\n",
              "      --hover-fill-color: #174EA6;\n",
              "      --disabled-fill-color: #AAA;\n",
              "      --disabled-bg-color: #DDD;\n",
              "  }\n",
              "\n",
              "  [theme=dark] .colab-df-quickchart {\n",
              "      --bg-color: #3B4455;\n",
              "      --fill-color: #D2E3FC;\n",
              "      --hover-bg-color: #434B5C;\n",
              "      --hover-fill-color: #FFFFFF;\n",
              "      --disabled-bg-color: #3B4455;\n",
              "      --disabled-fill-color: #666;\n",
              "  }\n",
              "\n",
              "  .colab-df-quickchart {\n",
              "    background-color: var(--bg-color);\n",
              "    border: none;\n",
              "    border-radius: 50%;\n",
              "    cursor: pointer;\n",
              "    display: none;\n",
              "    fill: var(--fill-color);\n",
              "    height: 32px;\n",
              "    padding: 0;\n",
              "    width: 32px;\n",
              "  }\n",
              "\n",
              "  .colab-df-quickchart:hover {\n",
              "    background-color: var(--hover-bg-color);\n",
              "    box-shadow: 0 1px 2px rgba(60, 64, 67, 0.3), 0 1px 3px 1px rgba(60, 64, 67, 0.15);\n",
              "    fill: var(--button-hover-fill-color);\n",
              "  }\n",
              "\n",
              "  .colab-df-quickchart-complete:disabled,\n",
              "  .colab-df-quickchart-complete:disabled:hover {\n",
              "    background-color: var(--disabled-bg-color);\n",
              "    fill: var(--disabled-fill-color);\n",
              "    box-shadow: none;\n",
              "  }\n",
              "\n",
              "  .colab-df-spinner {\n",
              "    border: 2px solid var(--fill-color);\n",
              "    border-color: transparent;\n",
              "    border-bottom-color: var(--fill-color);\n",
              "    animation:\n",
              "      spin 1s steps(1) infinite;\n",
              "  }\n",
              "\n",
              "  @keyframes spin {\n",
              "    0% {\n",
              "      border-color: transparent;\n",
              "      border-bottom-color: var(--fill-color);\n",
              "      border-left-color: var(--fill-color);\n",
              "    }\n",
              "    20% {\n",
              "      border-color: transparent;\n",
              "      border-left-color: var(--fill-color);\n",
              "      border-top-color: var(--fill-color);\n",
              "    }\n",
              "    30% {\n",
              "      border-color: transparent;\n",
              "      border-left-color: var(--fill-color);\n",
              "      border-top-color: var(--fill-color);\n",
              "      border-right-color: var(--fill-color);\n",
              "    }\n",
              "    40% {\n",
              "      border-color: transparent;\n",
              "      border-right-color: var(--fill-color);\n",
              "      border-top-color: var(--fill-color);\n",
              "    }\n",
              "    60% {\n",
              "      border-color: transparent;\n",
              "      border-right-color: var(--fill-color);\n",
              "    }\n",
              "    80% {\n",
              "      border-color: transparent;\n",
              "      border-right-color: var(--fill-color);\n",
              "      border-bottom-color: var(--fill-color);\n",
              "    }\n",
              "    90% {\n",
              "      border-color: transparent;\n",
              "      border-bottom-color: var(--fill-color);\n",
              "    }\n",
              "  }\n",
              "</style>\n",
              "\n",
              "      <script>\n",
              "        async function quickchart(key) {\n",
              "          const quickchartButtonEl =\n",
              "            document.querySelector('#' + key + ' button');\n",
              "          quickchartButtonEl.disabled = true;  // To prevent multiple clicks.\n",
              "          quickchartButtonEl.classList.add('colab-df-spinner');\n",
              "          try {\n",
              "            const charts = await google.colab.kernel.invokeFunction(\n",
              "                'suggestCharts', [key], {});\n",
              "          } catch (error) {\n",
              "            console.error('Error during call to suggestCharts:', error);\n",
              "          }\n",
              "          quickchartButtonEl.classList.remove('colab-df-spinner');\n",
              "          quickchartButtonEl.classList.add('colab-df-quickchart-complete');\n",
              "        }\n",
              "        (() => {\n",
              "          let quickchartButtonEl =\n",
              "            document.querySelector('#df-c2acafe6-da9c-475c-9c77-3eafcbe0b200 button');\n",
              "          quickchartButtonEl.style.display =\n",
              "            google.colab.kernel.accessAllowed ? 'block' : 'none';\n",
              "        })();\n",
              "      </script>\n",
              "    </div>\n",
              "\n",
              "    </div>\n",
              "  </div>\n"
            ],
            "application/vnd.google.colaboratory.intrinsic+json": {
              "type": "dataframe",
              "variable_name": "df"
            }
          },
          "metadata": {},
          "execution_count": 4
        }
      ],
      "source": [
        "df = pd.read_csv(\"https://autogluon.s3.amazonaws.com/datasets/timeseries/m4_hourly_subset/train.csv\")\n",
        "df.head()\n"
      ]
    },
    {
      "cell_type": "markdown",
      "id": "a64ddd43",
      "metadata": {
        "id": "a64ddd43"
      },
      "source": [
        "AutoGluon expects time series data in [long format](https://doc.dataiku.com/dss/latest/time-series/data-formatting.html#long-format).\n",
        "Each row of the dataframe contains a single observation (timestep) of a single time series represented by\n",
        "\n",
        "- unique ID of the time series (`\"item_id\"`) as int or str\n",
        "- timestamp of the observation (`\"timestamp\"`) as a `pandas.Timestamp` or compatible format\n",
        "- numeric value of the time series (`\"target\"`)\n",
        "\n",
        "The raw dataset should always follow this format with at least three columns for unique ID, timestamp, and target value, but the names of these columns can be arbitrary.\n",
        "It is important, however, that we provide the names of the columns when constructing a `TimeSeriesDataFrame` that is used by AutoGluon.\n",
        "AutoGluon will raise an exception if the data doesn't match the expected format."
      ]
    },
    {
      "cell_type": "code",
      "execution_count": null,
      "id": "d73ddcc9",
      "metadata": {
        "id": "d73ddcc9"
      },
      "outputs": [],
      "source": [
        "train_data = TimeSeriesDataFrame.from_data_frame(\n",
        "    df,\n",
        "    id_column=\"item_id\",\n",
        "    timestamp_column=\"timestamp\"\n",
        ")\n",
        "train_data.head()\n"
      ]
    },
    {
      "cell_type": "markdown",
      "id": "bfee8b9b",
      "metadata": {
        "id": "bfee8b9b"
      },
      "source": [
        "We refer to each individual time series stored in a `TimeSeriesDataFrame` as an _item_.\n",
        "For example, items might correspond to different products in demand forecasting, or to different stocks in financial datasets.\n",
        "This setting is also referred to as a _panel_ of time series.\n",
        "Note that this is *not* the same as multivariate forecasting — AutoGluon generates forecasts for each time series individually, without modeling interactions between different items (time series).\n",
        "\n",
        "`TimeSeriesDataFrame` inherits from [pandas.DataFrame](https://pandas.pydata.org/pandas-docs/stable/reference/api/pandas.DataFrame.html), so all attributes and methods of `pandas.DataFrame` are available in a `TimeSeriesDataFrame`.\n",
        "It also provides other utility functions, such as loaders for different data formats (see [TimeSeriesDataFrame](../../api/autogluon.timeseries.TimeSeriesDataFrame) for details).\n",
        "\n",
        "## Training time series models with `TimeSeriesPredictor.fit`\n",
        "To forecast future values of the time series, we need to create a `TimeSeriesPredictor` object.\n",
        "\n",
        "Models in `autogluon.timeseries` forecast time series _multiple steps_ into the future.\n",
        "We choose the number of these steps — the _prediction length_ (also known as the _forecast horizon_) —  depending on our task.\n",
        "For example, our dataset contains time series measured at hourly _frequency_, so we set `prediction_length = 48` to train models that forecast up to 48 hours into the future.\n",
        "\n",
        "We instruct AutoGluon to save trained models in the folder `./autogluon-m4-hourly`.\n",
        "We also specify that AutoGluon should rank models according to [mean absolute scaled error (MASE)](https://en.wikipedia.org/wiki/Mean_absolute_scaled_error), and that data that we want to forecast is stored in the column `\"target\"` of the `TimeSeriesDataFrame`."
      ]
    },
    {
      "cell_type": "code",
      "execution_count": null,
      "id": "f7ef668c",
      "metadata": {
        "id": "f7ef668c"
      },
      "outputs": [],
      "source": [
        "predictor = TimeSeriesPredictor(\n",
        "    prediction_length=48,\n",
        "    path=\"autogluon-m4-hourly\",\n",
        "    target=\"target\",\n",
        "    eval_metric=\"MASE\",\n",
        ")\n",
        "\n",
        "predictor.fit(\n",
        "    train_data,\n",
        "    presets=\"medium_quality\",\n",
        "    time_limit=600,\n",
        ")\n"
      ]
    },
    {
      "cell_type": "markdown",
      "id": "91b3ddd4",
      "metadata": {
        "id": "91b3ddd4"
      },
      "source": [
        "Here we used the `\"medium_quality\"` presets and limited the training time to 10 minutes (600 seconds).\n",
        "The presets define which models AutoGluon will try to fit.\n",
        "For `medium_quality` presets, these are\n",
        "simple baselines (`Naive`, `SeasonalNaive`),\n",
        "statistical models (`ETS`, `Theta`),\n",
        "tree-based models based on LightGBM (`RecursiveTabular`, `DirectTabular`),\n",
        "a deep learning model `TemporalFusionTransformer`,\n",
        "and a weighted ensemble combining these.\n",
        "Other available presets for `TimeSeriesPredictor` are `\"fast_training\"`, `\"high_quality\"` and `\"best_quality\"`.\n",
        "Higher quality presets will usually produce more accurate forecasts but take longer to train.\n",
        "\n",
        "Inside `fit()`, AutoGluon will train as many models as possible within the given time limit.\n",
        "Trained models are then ranked based on their performance on an internal validation set.\n",
        "By default, this validation set is constructed by holding out the last `prediction_length` timesteps of each time series in `train_data`.\n",
        "\n",
        "\n",
        "## Generating forecasts with `TimeSeriesPredictor.predict`\n",
        "\n",
        "We can now use the fitted `TimeSeriesPredictor` to forecast the future time series values.\n",
        "By default, AutoGluon will make forecasts using the model that had the best score on the internal validation set.\n",
        "The forecast always includes predictions for the next `prediction_length` timesteps, starting from the end of each time series in `train_data`."
      ]
    },
    {
      "cell_type": "code",
      "execution_count": null,
      "id": "4a238183",
      "metadata": {
        "id": "4a238183"
      },
      "outputs": [],
      "source": [
        "predictions = predictor.predict(train_data)\n",
        "predictions.head()\n"
      ]
    },
    {
      "cell_type": "markdown",
      "id": "bfbca161",
      "metadata": {
        "id": "bfbca161"
      },
      "source": [
        "AutoGluon produces a _probabilistic_ forecast: in addition to predicting the mean (expected value) of the time series in the future, models also provide the quantiles of the forecast distribution.\n",
        "The quantile forecasts give us an idea about the range of possible outcomes.\n",
        "For example, if the `\"0.1\"` quantile is equal to `500.0`, it means that the model predicts a 10% chance that the target value will be below `500.0`.\n",
        "\n",
        "We will now visualize the forecast and the actually observed values for one of the time series in the dataset.\n",
        "We plot the mean forecast, as well as the 10% and 90% quantiles to show the range of potential outcomes."
      ]
    },
    {
      "cell_type": "code",
      "execution_count": null,
      "id": "d2455126",
      "metadata": {
        "id": "d2455126"
      },
      "outputs": [],
      "source": [
        "import matplotlib.pyplot as plt\n",
        "\n",
        "# TimeSeriesDataFrame can also be loaded directly from a file\n",
        "test_data = TimeSeriesDataFrame.from_path(\"https://autogluon.s3.amazonaws.com/datasets/timeseries/m4_hourly_subset/test.csv\")\n",
        "\n",
        "# Plot 4 randomly chosen time series and the respective forecasts\n",
        "predictor.plot(test_data, predictions, quantile_levels=[0.1, 0.9], max_history_length=200, max_num_item_ids=4);\n"
      ]
    },
    {
      "cell_type": "markdown",
      "id": "bc2d08f7",
      "metadata": {
        "id": "bc2d08f7"
      },
      "source": [
        "## Evaluating the performance of different models\n",
        "\n",
        "We can view the performance of each model AutoGluon has trained via the `leaderboard()` method.\n",
        "We provide the test data set to the leaderboard function to see how well our fitted models are doing on the unseen test data.\n",
        "The leaderboard also includes the validation scores computed on the internal validation dataset.\n",
        "\n",
        "Note the test data includes both the forecast horizon (last `prediction_length` values of each time series) as well as the historical data (all except the last `prediction_last` values).\n",
        "\n",
        "In AutoGluon leaderboards, higher scores always correspond to better predictive performance.\n",
        "Therefore our MASE scores are multiplied by `-1`, such that higher \"negative MASE\"s correspond to more accurate forecasts."
      ]
    },
    {
      "cell_type": "code",
      "execution_count": null,
      "id": "2f4f8e9c",
      "metadata": {
        "id": "2f4f8e9c"
      },
      "outputs": [],
      "source": [
        "# The test score is computed using the last\n",
        "# prediction_length=48 timesteps of each time series in test_data\n",
        "predictor.leaderboard(test_data)\n"
      ]
    },
    {
      "cell_type": "markdown",
      "id": "bd2fdfac",
      "metadata": {
        "id": "bd2fdfac"
      },
      "source": [
        "## Summary\n",
        "We used `autogluon.timeseries` to make probabilistic multi-step forecasts on the M4 Hourly dataset.\n",
        "Check out [Forecasting Time Series - In Depth](forecasting-indepth.ipynb) to learn about the advanced capabilities of AutoGluon for time series forecasting."
      ]
    }
  ],
  "metadata": {
    "kernelspec": {
      "display_name": "ag",
      "language": "python",
      "name": "python3"
    },
    "language_info": {
      "codemirror_mode": {
        "name": "ipython",
        "version": 3
      },
      "file_extension": ".py",
      "mimetype": "text/x-python",
      "name": "python",
      "nbconvert_exporter": "python",
      "pygments_lexer": "ipython3",
      "version": "3.10.14"
    },
    "colab": {
      "provenance": []
    }
  },
  "nbformat": 4,
  "nbformat_minor": 5
}